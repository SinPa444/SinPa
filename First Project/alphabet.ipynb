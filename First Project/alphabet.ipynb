{
 "cells": [
  {
   "cell_type": "markdown",
   "id": "b5414b00-225c-48cd-bf5f-777692d3b509",
   "metadata": {},
   "source": [
    "### alphabet"
   ]
  },
  {
   "cell_type": "code",
   "execution_count": 2,
   "id": "c8be183a-4fb2-43c0-b620-08a929c9f1f6",
   "metadata": {},
   "outputs": [],
   "source": [
    "low_char = \"abcdefghijklmnopqrstuvwxyz\"\n",
    "up_char = \"ABCDEFGHIJKLMNOPQRSTUVWXYZ\""
   ]
  },
  {
   "cell_type": "code",
   "execution_count": 7,
   "id": "88d27bfe-1459-4eeb-9134-518f4c446590",
   "metadata": {},
   "outputs": [
    {
     "name": "stdin",
     "output_type": "stream",
     "text": [
      "enter a sentence:  xyz\n",
      "enter a number you want to shift:  2\n"
     ]
    }
   ],
   "source": [
    "sentence = input(\"enter a sentence: \")\n",
    "shift = int(input(\"enter a number you want to shift: \"))"
   ]
  },
  {
   "cell_type": "code",
   "execution_count": 8,
   "id": "58d24e0c-8a60-4c0d-8621-343f6e66bc40",
   "metadata": {},
   "outputs": [],
   "source": [
    "result = \"\""
   ]
  },
  {
   "cell_type": "code",
   "execution_count": 9,
   "id": "7e6e5d5b-9188-4d1c-b8cd-37708ef55007",
   "metadata": {},
   "outputs": [],
   "source": [
    "for char in sentence:\n",
    "    if char in low_char:\n",
    "        index = low_char.index(char)\n",
    "        new_char = low_char[(index + shift) - 26]\n",
    "        result += new_char\n",
    "    elif char in up_char:\n",
    "        index = up_char.index(char)\n",
    "        new_char = up_char[(index + shift) - 26]\n",
    "        result += new_char\n",
    "    else:\n",
    "        result += char"
   ]
  },
  {
   "cell_type": "code",
   "execution_count": 10,
   "id": "9b6b09da-ddfb-4e56-9d56-79e4ab1ff0d6",
   "metadata": {},
   "outputs": [
    {
     "name": "stdout",
     "output_type": "stream",
     "text": [
      "zab\n"
     ]
    }
   ],
   "source": [
    "print(result)"
   ]
  },
  {
   "cell_type": "code",
   "execution_count": null,
   "id": "ef71a4fb-d8c6-4d55-b951-5c9e6e63bc0d",
   "metadata": {},
   "outputs": [],
   "source": []
  }
 ],
 "metadata": {
  "kernelspec": {
   "display_name": "Python 3 (ipykernel)",
   "language": "python",
   "name": "python3"
  },
  "language_info": {
   "codemirror_mode": {
    "name": "ipython",
    "version": 3
   },
   "file_extension": ".py",
   "mimetype": "text/x-python",
   "name": "python",
   "nbconvert_exporter": "python",
   "pygments_lexer": "ipython3",
   "version": "3.12.4"
  }
 },
 "nbformat": 4,
 "nbformat_minor": 5
}
