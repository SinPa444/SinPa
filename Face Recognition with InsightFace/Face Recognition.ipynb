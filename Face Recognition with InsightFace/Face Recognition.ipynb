{
 "cells": [
  {
   "cell_type": "code",
   "execution_count": 1,
   "id": "51b63327",
   "metadata": {},
   "outputs": [],
   "source": [
    "import os\n",
    "import cv2 as cv\n",
    "import numpy as np\n",
    "from PIL import Image\n",
    "from insightface.app import FaceAnalysis\n",
    "import insightface"
   ]
  },
  {
   "cell_type": "markdown",
   "id": "0b923396",
   "metadata": {},
   "source": [
    "Intilize InsightFace"
   ]
  },
  {
   "cell_type": "code",
   "execution_count": 10,
   "id": "8a2a12f5",
   "metadata": {},
   "outputs": [
    {
     "name": "stdout",
     "output_type": "stream",
     "text": [
      "download_path: /home/sina/.insightface/models/buffalo_s\n",
      "Downloading /home/sina/.insightface/models/buffalo_s.zip from https://github.com/deepinsight/insightface/releases/download/v0.7/buffalo_s.zip...\n"
     ]
    },
    {
     "name": "stderr",
     "output_type": "stream",
     "text": [
      "100%|██████████████████████████████████| 124617/124617 [08:01<00:00, 259.04KB/s]\n"
     ]
    },
    {
     "name": "stdout",
     "output_type": "stream",
     "text": [
      "Applied providers: ['CPUExecutionProvider'], with options: {'CPUExecutionProvider': {}}\n",
      "find model: /home/sina/.insightface/models/buffalo_s/1k3d68.onnx landmark_3d_68 ['None', 3, 192, 192] 0.0 1.0\n",
      "Applied providers: ['CPUExecutionProvider'], with options: {'CPUExecutionProvider': {}}\n",
      "find model: /home/sina/.insightface/models/buffalo_s/2d106det.onnx landmark_2d_106 ['None', 3, 192, 192] 0.0 1.0\n",
      "Applied providers: ['CPUExecutionProvider'], with options: {'CPUExecutionProvider': {}}\n",
      "find model: /home/sina/.insightface/models/buffalo_s/det_500m.onnx detection [1, 3, '?', '?'] 127.5 128.0\n",
      "Applied providers: ['CPUExecutionProvider'], with options: {'CPUExecutionProvider': {}}\n",
      "find model: /home/sina/.insightface/models/buffalo_s/genderage.onnx genderage ['None', 3, 96, 96] 0.0 1.0\n",
      "Applied providers: ['CPUExecutionProvider'], with options: {'CPUExecutionProvider': {}}\n",
      "find model: /home/sina/.insightface/models/buffalo_s/w600k_mbf.onnx recognition ['None', 3, 112, 112] 127.5 127.5\n",
      "set det-size: (640, 640)\n"
     ]
    },
    {
     "name": "stderr",
     "output_type": "stream",
     "text": [
      "\u001b[1;31m2025-05-13 18:47:38.079846777 [E:onnxruntime:Default, provider_bridge_ort.cc:2195 TryGetProviderInfo_CUDA] /onnxruntime_src/onnxruntime/core/session/provider_bridge_ort.cc:1778 onnxruntime::Provider& onnxruntime::ProviderLibrary::Get() [ONNXRuntimeError] : 1 : FAIL : Failed to load library libonnxruntime_providers_cuda.so with error: libcublasLt.so.12: cannot open shared object file: No such file or directory\n",
      "\u001b[m\n",
      "\u001b[1;31m2025-05-13 18:47:38.323672392 [E:onnxruntime:Default, provider_bridge_ort.cc:2195 TryGetProviderInfo_CUDA] /onnxruntime_src/onnxruntime/core/session/provider_bridge_ort.cc:1778 onnxruntime::Provider& onnxruntime::ProviderLibrary::Get() [ONNXRuntimeError] : 1 : FAIL : Failed to load library libonnxruntime_providers_cuda.so with error: libcublasLt.so.12: cannot open shared object file: No such file or directory\n",
      "\u001b[m\n",
      "\u001b[1;31m2025-05-13 18:47:38.334841528 [E:onnxruntime:Default, provider_bridge_ort.cc:2195 TryGetProviderInfo_CUDA] /onnxruntime_src/onnxruntime/core/session/provider_bridge_ort.cc:1778 onnxruntime::Provider& onnxruntime::ProviderLibrary::Get() [ONNXRuntimeError] : 1 : FAIL : Failed to load library libonnxruntime_providers_cuda.so with error: libcublasLt.so.12: cannot open shared object file: No such file or directory\n",
      "\u001b[m\n",
      "\u001b[1;31m2025-05-13 18:47:38.344129648 [E:onnxruntime:Default, provider_bridge_ort.cc:2195 TryGetProviderInfo_CUDA] /onnxruntime_src/onnxruntime/core/session/provider_bridge_ort.cc:1778 onnxruntime::Provider& onnxruntime::ProviderLibrary::Get() [ONNXRuntimeError] : 1 : FAIL : Failed to load library libonnxruntime_providers_cuda.so with error: libcublasLt.so.12: cannot open shared object file: No such file or directory\n",
      "\u001b[m\n",
      "\u001b[1;31m2025-05-13 18:47:38.353923104 [E:onnxruntime:Default, provider_bridge_ort.cc:2195 TryGetProviderInfo_CUDA] /onnxruntime_src/onnxruntime/core/session/provider_bridge_ort.cc:1778 onnxruntime::Provider& onnxruntime::ProviderLibrary::Get() [ONNXRuntimeError] : 1 : FAIL : Failed to load library libonnxruntime_providers_cuda.so with error: libcublasLt.so.12: cannot open shared object file: No such file or directory\n",
      "\u001b[m\n"
     ]
    }
   ],
   "source": [
    "app = FaceAnalysis(name='buffalo_s')\n",
    "app.prepare(ctx_id=0, det_size=(640, 640))"
   ]
  },
  {
   "cell_type": "markdown",
   "id": "d8d91d6e",
   "metadata": {},
   "source": [
    "Function to load dataset"
   ]
  },
  {
   "cell_type": "code",
   "execution_count": 3,
   "id": "739953d6",
   "metadata": {},
   "outputs": [],
   "source": [
    "def load_dataset(dataset_path):\n",
    "    embeddings = []\n",
    "    labels = []\n",
    "    for person_name in os.listdir(dataset_path):\n",
    "        person_dir = os.path.join(dataset_path, person_name)\n",
    "        if not os.path.isdir(person_dir):\n",
    "            continue\n",
    "        for image_name in os.listdir(person_dir):\n",
    "            image_path = os.path.join(person_dir, image_name)\n",
    "            try:\n",
    "                img = Image.open(image_path).convert('RGB')\n",
    "                img = np.array(img)\n",
    "                faces = app.get(img)\n",
    "                if len(faces) > 0:\n",
    "                    embedding = faces[0].normed_embedding\n",
    "                    embeddings.append(embedding)\n",
    "                    labels.append(person_name)\n",
    "            except Exception as e:\n",
    "                print(f\"Error processing {image_path}: {e}\")\n",
    "    return np.array(embeddings), labels"
   ]
  },
  {
   "cell_type": "markdown",
   "id": "e998a9f5",
   "metadata": {},
   "source": [
    "Function to recognize face"
   ]
  },
  {
   "cell_type": "code",
   "execution_count": 4,
   "id": "0f351020",
   "metadata": {},
   "outputs": [],
   "source": [
    "def recognize_face(embedding, dataset_embeddings, dataset_labels, threshold=0.4):\n",
    "    if len(dataset_embeddings) == 0:\n",
    "        return \"Unknown\", False\n",
    "    \n",
    "    similarities = np.dot(dataset_embeddings, embedding) / (np.linalg.norm(dataset_embeddings, axis=1) * np.linalg.norm(embedding))\n",
    "    max_similarities = np.max(similarities)\n",
    "    if max_similarities > threshold:\n",
    "        max_index = np.argmax(similarities)\n",
    "        return dataset_labels[max_index], True\n",
    "    return \"Unknown\", False\n"
   ]
  },
  {
   "cell_type": "markdown",
   "id": "9eb04b7b",
   "metadata": {},
   "source": [
    "Load Dataset"
   ]
  },
  {
   "cell_type": "code",
   "execution_count": 5,
   "id": "d86126cd",
   "metadata": {},
   "outputs": [
    {
     "name": "stdout",
     "output_type": "stream",
     "text": [
      "Loaded 75 embeddings from dataset\n"
     ]
    }
   ],
   "source": [
    "dataset_path = \"/home/sina/Desktop/Sina/AI/Datasets/Persons images for Face Detection\"\n",
    "dataset_embeddings, dataset_labels = load_dataset(dataset_path)\n",
    "print(f\"Loaded {len(dataset_embeddings)} embeddings from dataset\")"
   ]
  },
  {
   "cell_type": "markdown",
   "id": "42e9ac0a",
   "metadata": {},
   "source": [
    "Intialize webcam"
   ]
  },
  {
   "cell_type": "code",
   "execution_count": 6,
   "id": "98e43499",
   "metadata": {},
   "outputs": [],
   "source": [
    "cap = cv.VideoCapture(0)\n",
    "if not cap.isOpened():\n",
    "    print(\"Error: could not open webcam\")\n",
    "    exit()"
   ]
  },
  {
   "cell_type": "code",
   "execution_count": 8,
   "id": "2f99ac66",
   "metadata": {},
   "outputs": [],
   "source": [
    "# while True:\n",
    "#     ret, frame = cap.read()\n",
    "#     if not ret:\n",
    "#         print(\"Error: Could not read frame\")\n",
    "#         break\n",
    "        \n",
    "#     faces = app.get(frame)\n",
    "#     for face in faces:\n",
    "#         bbox = face.normes_embedding\n",
    "#         x1, y1, x2, y2 = bbox\n",
    "        \n",
    "#         embedding = face.normed_embedding\n",
    "#         name, access_granted = recognize_face(embedding, dataset_embeddings, dataset_labels)\n",
    "#         if access_granted:\n",
    "#             text = f\"{name} - Access Granted\"\n",
    "#             color = (0, 0, 255)\n",
    "#         else:\n",
    "#             text = f\"{name} - Access Denied\"\n",
    "#             color = (0, 2550, 0)\n",
    "            \n",
    "#         cv.rectangle(frame, (x1, y1), (x2, y2), color, 2)\n",
    "#         cv.putText(frame, text, (x1, y1 - 10), cv.FONT_HERSHEY_SIMPLEX, 0.9. color, 2)\n",
    "    \n",
    "#     cv.imshow(\"Face Recognition\", frame)\n",
    "    \n",
    "#     if cv.waitKey(1) & 0xFF == ord('q'):\n",
    "#         break\n",
    "        \n",
    "# cap.release()\n",
    "# cv.destroyALLWindows()\n",
    "\n",
    "\n",
    "while True:\n",
    "    ret, frame = cap.read()\n",
    "    if not ret:\n",
    "        print(\"Error: Could not read frame\")\n",
    "        break\n",
    "        \n",
    "    faces = app.get(frame)\n",
    "    for face in faces:\n",
    "        # اصلاح این خط - استفاده از face.bbox به جای face.normes_embedding\n",
    "        x1, y1, x2, y2 = face.bbox.astype(int)\n",
    "        \n",
    "        embedding = face.normed_embedding\n",
    "        name, access_granted = recognize_face(embedding, dataset_embeddings, dataset_labels)\n",
    "        \n",
    "        if access_granted:\n",
    "            text = f\"{name} - Access Granted\"\n",
    "            color = (0, 255, 0)  # سبز برای دسترسی مجاز\n",
    "        else:\n",
    "            text = f\"{name} - Access Denied\"\n",
    "            color = (0, 0, 255)  # قرمز برای دسترسی غیرمجاز\n",
    "            \n",
    "        cv.rectangle(frame, (x1, y1), (x2, y2), color, 2)\n",
    "        # اصلاح نقطه به کاما در این خط\n",
    "        cv.putText(frame, text, (x1, y1 - 10), cv.FONT_HERSHEY_SIMPLEX, 0.9, color, 2)\n",
    "    \n",
    "    cv.imshow(\"Face Recognition\", frame)\n",
    "    \n",
    "    if cv.waitKey(1) & 0xFF == ord('q'):\n",
    "        break\n",
    "        \n",
    "cap.release()\n",
    "# اصلاح حروف بزرگ در این خط\n",
    "cv.destroyAllWindows()"
   ]
  },
  {
   "cell_type": "code",
   "execution_count": null,
   "id": "223a142f",
   "metadata": {},
   "outputs": [],
   "source": []
  }
 ],
 "metadata": {
  "kernelspec": {
   "display_name": "Face Detection (InsightFace)",
   "language": "python",
   "name": "insightface"
  },
  "language_info": {
   "codemirror_mode": {
    "name": "ipython",
    "version": 3
   },
   "file_extension": ".py",
   "mimetype": "text/x-python",
   "name": "python",
   "nbconvert_exporter": "python",
   "pygments_lexer": "ipython3",
   "version": "3.12.3"
  }
 },
 "nbformat": 4,
 "nbformat_minor": 5
}
