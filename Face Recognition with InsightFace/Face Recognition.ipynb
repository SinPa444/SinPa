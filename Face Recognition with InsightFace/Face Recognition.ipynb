{
 "cells": [
  {
   "cell_type": "code",
   "execution_count": null,
   "id": "51b63327",
   "metadata": {},
   "outputs": [],
   "source": [
    "import os\n",
    "import cv2 as cv\n",
    "import numpy as np\n",
    "from PIL import Image\n",
    "from insightface.app import FaceAnalysis\n",
    "import insightface"
   ]
  },
  {
   "cell_type": "markdown",
   "id": "0b923396",
   "metadata": {},
   "source": [
    "Intilize InsightFace"
   ]
  },
  {
   "cell_type": "code",
   "execution_count": null,
   "id": "8a2a12f5",
   "metadata": {},
   "outputs": [],
   "source": [
    "app = FaceAnalysis(name='buffalo_s') # You can choose anothr model\n",
    "app.prepare(ctx_id=0, det_size=(640, 640))"
   ]
  },
  {
   "cell_type": "markdown",
   "id": "d8d91d6e",
   "metadata": {},
   "source": [
    "Function to load dataset"
   ]
  },
  {
   "cell_type": "code",
   "execution_count": 3,
   "id": "739953d6",
   "metadata": {},
   "outputs": [],
   "source": [
    "def load_dataset(dataset_path):\n",
    "    embeddings = []\n",
    "    labels = []\n",
    "    for person_name in os.listdir(dataset_path):\n",
    "        person_dir = os.path.join(dataset_path, person_name)\n",
    "        if not os.path.isdir(person_dir):\n",
    "            continue\n",
    "        for image_name in os.listdir(person_dir):\n",
    "            image_path = os.path.join(person_dir, image_name)\n",
    "            try:\n",
    "                img = Image.open(image_path).convert('RGB')\n",
    "                img = np.array(img)\n",
    "                faces = app.get(img)\n",
    "                if len(faces) > 0:\n",
    "                    embedding = faces[0].normed_embedding\n",
    "                    embeddings.append(embedding)\n",
    "                    labels.append(person_name)\n",
    "            except Exception as e:\n",
    "                print(f\"Error processing {image_path}: {e}\")\n",
    "    return np.array(embeddings), labels"
   ]
  },
  {
   "cell_type": "markdown",
   "id": "e998a9f5",
   "metadata": {},
   "source": [
    "Function to recognize face"
   ]
  },
  {
   "cell_type": "code",
   "execution_count": 4,
   "id": "0f351020",
   "metadata": {},
   "outputs": [],
   "source": [
    "def recognize_face(embedding, dataset_embeddings, dataset_labels, threshold=0.4):\n",
    "    if len(dataset_embeddings) == 0:\n",
    "        return \"Unknown\", False\n",
    "    \n",
    "    similarities = np.dot(dataset_embeddings, embedding) / (np.linalg.norm(dataset_embeddings, axis=1) * np.linalg.norm(embedding))\n",
    "    max_similarities = np.max(similarities)\n",
    "    if max_similarities > threshold:\n",
    "        max_index = np.argmax(similarities)\n",
    "        return dataset_labels[max_index], True\n",
    "    return \"Unknown\", False\n"
   ]
  },
  {
   "cell_type": "markdown",
   "id": "9eb04b7b",
   "metadata": {},
   "source": [
    "Load Dataset"
   ]
  },
  {
   "cell_type": "code",
   "execution_count": null,
   "id": "d86126cd",
   "metadata": {},
   "outputs": [],
   "source": [
    "dataset_path = \"\"  # path your persons dataset\n",
    "dataset_embeddings, dataset_labels = load_dataset(dataset_path)\n",
    "print(f\"Loaded {len(dataset_embeddings)} embeddings from dataset\")"
   ]
  },
  {
   "cell_type": "markdown",
   "id": "42e9ac0a",
   "metadata": {},
   "source": [
    "Intialize webcam"
   ]
  },
  {
   "cell_type": "code",
   "execution_count": 6,
   "id": "98e43499",
   "metadata": {},
   "outputs": [],
   "source": [
    "cap = cv.VideoCapture(0)\n",
    "if not cap.isOpened():\n",
    "    print(\"Error: could not open webcam\")\n",
    "    exit()"
   ]
  },
  {
   "cell_type": "code",
   "execution_count": null,
   "id": "2f99ac66",
   "metadata": {},
   "outputs": [],
   "source": [
    "while True:\n",
    "    ret, frame = cap.read()\n",
    "    if not ret:\n",
    "        print(\"Error: Could not read frame\")\n",
    "        break\n",
    "        \n",
    "    faces = app.get(frame)\n",
    "    for face in faces:\n",
    "        x1, y1, x2, y2 = face.bbox.astype(int)\n",
    "        \n",
    "        embedding = face.normed_embedding\n",
    "        name, access_granted = recognize_face(embedding, dataset_embeddings, dataset_labels)\n",
    "        \n",
    "        if access_granted:\n",
    "            text = f\"{name} - Access Granted\"\n",
    "            color = (0, 255, 0)\n",
    "        else:\n",
    "            text = f\"{name} - Access Denied\"\n",
    "            color = (0, 0, 255)\n",
    "            \n",
    "        cv.rectangle(frame, (x1, y1), (x2, y2), color, 2)\n",
    "        cv.putText(frame, text, (x1, y1 - 10), cv.FONT_HERSHEY_SIMPLEX, 0.9, color, 2)\n",
    "    \n",
    "    cv.imshow(\"Face Recognition\", frame)\n",
    "    \n",
    "    if cv.waitKey(1) & 0xFF == ord('q'):\n",
    "        break\n",
    "        \n",
    "cap.release()\n",
    "cv.destroyAllWindows()"
   ]
  },
  {
   "cell_type": "code",
   "execution_count": null,
   "id": "223a142f",
   "metadata": {},
   "outputs": [],
   "source": []
  }
 ],
 "metadata": {
  "kernelspec": {
   "display_name": "Python 3 (ipykernel)",
   "language": "python",
   "name": "python3"
  },
  "language_info": {
   "codemirror_mode": {
    "name": "ipython",
    "version": 3
   },
   "file_extension": ".py",
   "mimetype": "text/x-python",
   "name": "python",
   "nbconvert_exporter": "python",
   "pygments_lexer": "ipython3",
   "version": "3.12.3"
  }
 },
 "nbformat": 4,
 "nbformat_minor": 5
}
